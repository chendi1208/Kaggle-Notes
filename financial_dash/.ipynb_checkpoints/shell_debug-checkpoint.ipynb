{
 "cells": [
  {
   "cell_type": "code",
   "execution_count": 1,
   "metadata": {
    "collapsed": true
   },
   "outputs": [],
   "source": [
    "import numpy as np\n",
    "import pandas as pd\n",
    "import datetime\n",
    "\n",
    "from cashflow.constants import (\n",
    "    FED_BRACKET, FED_FICA, FED_MEDICARE, FED_DEDUCTION, FED_EXEMPTION,\n",
    "    STATE_BRACKET, STATE_DEDUCTION, LOCAL_BRACKET, LOCAL_DEDUCTION)\n",
    "\n",
    "from cashflow.methodology.cf_analysis import CashFlow\n",
    "from cashflow.methodology.get_cashflow import get_cashflow"
   ]
  },
  {
   "cell_type": "code",
   "execution_count": 2,
   "metadata": {},
   "outputs": [
    {
     "name": "stdout",
     "output_type": "stream",
     "text": [
      "2017-11-07 20:53:40.094 FINANCIAL_CF INFO: Calculating federal tax\n",
      "2017-11-07 20:53:40.103 FINANCIAL_CF INFO: Calculating state tax\n",
      "2017-11-07 20:53:40.109 FINANCIAL_CF INFO: Calculating local tax\n"
     ]
    }
   ],
   "source": [
    "cf = CashFlow(125000, 2000, 1200, 500, 0.07)"
   ]
  },
  {
   "cell_type": "code",
   "execution_count": 3,
   "metadata": {},
   "outputs": [
    {
     "data": {
      "text/plain": [
       "78748.455000000002"
      ]
     },
     "execution_count": 3,
     "metadata": {},
     "output_type": "execute_result"
    }
   ],
   "source": [
    "cf.format_constitution(False)['value'].sum()"
   ]
  }
 ],
 "metadata": {
  "kernelspec": {
   "display_name": "Django Shell-Plus",
   "language": "python",
   "name": "django_extensions"
  },
  "language_info": {
   "codemirror_mode": {
    "name": "ipython",
    "version": 3
   },
   "file_extension": ".py",
   "mimetype": "text/x-python",
   "name": "python",
   "nbconvert_exporter": "python",
   "pygments_lexer": "ipython3",
   "version": "3.6.2"
  }
 },
 "nbformat": 4,
 "nbformat_minor": 2
}
