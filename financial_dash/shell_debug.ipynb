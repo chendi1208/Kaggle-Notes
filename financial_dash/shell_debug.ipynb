{
 "cells": [
  {
   "cell_type": "code",
   "execution_count": 9,
   "metadata": {
    "collapsed": true
   },
   "outputs": [],
   "source": [
    "import numpy as np\n",
    "import pandas as pd\n",
    "import datetime\n",
    "\n",
    "from cashflow.constants import (\n",
    "    FED_BRACKET, FED_FICA, FED_MEDICARE, FED_DEDUCTION, FED_EXEMPTION,\n",
    "    STATE_BRACKET, STATE_DEDUCTION, LOCAL_BRACKET, LOCAL_DEDUCTION)\n",
    "\n",
    "from cashflow.methodology.cf_analysis import CashFlow\n",
    "from cashflow.methodology.get_cashflow import get_cashflow"
   ]
  },
  {
   "cell_type": "code",
   "execution_count": 13,
   "metadata": {},
   "outputs": [
    {
     "name": "stdout",
     "output_type": "stream",
     "text": [
      "2017-11-07 21:00:08.924 FINANCIAL_CF INFO: Calculating federal tax\n",
      "2017-11-07 21:00:08.930 FINANCIAL_CF INFO: Calculating state tax\n",
      "2017-11-07 21:00:08.934 FINANCIAL_CF INFO: Calculating local tax\n",
      "2017-11-07 21:00:08.939 FINANCIAL_CF INFO: Projecting capital growth\n"
     ]
    }
   ],
   "source": [
    "cf_data = get_cashflow(125000, 2000, 1200, 500, 0.07)"
   ]
  },
  {
   "cell_type": "code",
   "execution_count": 23,
   "metadata": {},
   "outputs": [
    {
     "data": {
      "text/html": [
       "<div>\n",
       "<style>\n",
       "    .dataframe thead tr:only-child th {\n",
       "        text-align: right;\n",
       "    }\n",
       "\n",
       "    .dataframe thead th {\n",
       "        text-align: left;\n",
       "    }\n",
       "\n",
       "    .dataframe tbody tr th {\n",
       "        vertical-align: top;\n",
       "    }\n",
       "</style>\n",
       "<table border=\"1\" class=\"dataframe\">\n",
       "  <thead>\n",
       "    <tr style=\"text-align: right;\">\n",
       "      <th></th>\n",
       "      <th>item</th>\n",
       "      <th>value</th>\n",
       "      <th>pct</th>\n",
       "    </tr>\n",
       "  </thead>\n",
       "  <tbody>\n",
       "    <tr>\n",
       "      <th>0</th>\n",
       "      <td>rent</td>\n",
       "      <td>24000.000</td>\n",
       "      <td>19.200000</td>\n",
       "    </tr>\n",
       "    <tr>\n",
       "      <th>1</th>\n",
       "      <td>expense</td>\n",
       "      <td>14400.000</td>\n",
       "      <td>11.520000</td>\n",
       "    </tr>\n",
       "    <tr>\n",
       "      <th>2</th>\n",
       "      <td>consumption</td>\n",
       "      <td>6000.000</td>\n",
       "      <td>4.800000</td>\n",
       "    </tr>\n",
       "    <tr>\n",
       "      <th>3</th>\n",
       "      <td>saving</td>\n",
       "      <td>34348.455</td>\n",
       "      <td>27.478764</td>\n",
       "    </tr>\n",
       "    <tr>\n",
       "      <th>4</th>\n",
       "      <td>fed_tax</td>\n",
       "      <td>25069.750</td>\n",
       "      <td>20.055800</td>\n",
       "    </tr>\n",
       "    <tr>\n",
       "      <th>5</th>\n",
       "      <td>fed_fica</td>\n",
       "      <td>7750.000</td>\n",
       "      <td>6.200000</td>\n",
       "    </tr>\n",
       "    <tr>\n",
       "      <th>6</th>\n",
       "      <td>fed_medicare</td>\n",
       "      <td>1812.500</td>\n",
       "      <td>1.450000</td>\n",
       "    </tr>\n",
       "    <tr>\n",
       "      <th>7</th>\n",
       "      <td>state_tax</td>\n",
       "      <td>7286.725</td>\n",
       "      <td>5.829380</td>\n",
       "    </tr>\n",
       "    <tr>\n",
       "      <th>8</th>\n",
       "      <td>local_tax</td>\n",
       "      <td>4332.570</td>\n",
       "      <td>3.466056</td>\n",
       "    </tr>\n",
       "  </tbody>\n",
       "</table>\n",
       "</div>"
      ],
      "text/plain": [
       "           item      value        pct\n",
       "0          rent  24000.000  19.200000\n",
       "1       expense  14400.000  11.520000\n",
       "2   consumption   6000.000   4.800000\n",
       "3        saving  34348.455  27.478764\n",
       "4       fed_tax  25069.750  20.055800\n",
       "5      fed_fica   7750.000   6.200000\n",
       "6  fed_medicare   1812.500   1.450000\n",
       "7     state_tax   7286.725   5.829380\n",
       "8     local_tax   4332.570   3.466056"
      ]
     },
     "execution_count": 23,
     "metadata": {},
     "output_type": "execute_result"
    }
   ],
   "source": [
    "cf_data['cons_pre_tax']"
   ]
  }
 ],
 "metadata": {
  "kernelspec": {
   "display_name": "Django Shell-Plus",
   "language": "python",
   "name": "django_extensions"
  },
  "language_info": {
   "codemirror_mode": {
    "name": "ipython",
    "version": 3
   },
   "file_extension": ".py",
   "mimetype": "text/x-python",
   "name": "python",
   "nbconvert_exporter": "python",
   "pygments_lexer": "ipython3",
   "version": "3.6.2"
  }
 },
 "nbformat": 4,
 "nbformat_minor": 2
}
