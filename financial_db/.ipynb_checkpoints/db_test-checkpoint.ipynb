{
 "cells": [
  {
   "cell_type": "code",
   "execution_count": 1,
   "metadata": {
    "collapsed": true
   },
   "outputs": [],
   "source": [
    "import pandas as pd\n",
    "import datetime\n",
    "from db_session import start_session, close_session, logger\n",
    "from db_models import DailyTransaction, InvestmentTransfer, Income\n",
    "from constants import record_name\n",
    "\n",
    "from update_records import write_records"
   ]
  },
  {
   "cell_type": "code",
   "execution_count": 2,
   "metadata": {
    "collapsed": true
   },
   "outputs": [],
   "source": [
    "%load_ext autoreload\n",
    "%autoreload 2"
   ]
  },
  {
   "cell_type": "code",
   "execution_count": 3,
   "metadata": {},
   "outputs": [
    {
     "name": "stdout",
     "output_type": "stream",
     "text": [
      "2017-10-02 22:15:09.808 FINANCIAL_DB INFO: Starting database session......\n"
     ]
    }
   ],
   "source": [
    "session, engine = start_session()"
   ]
  },
  {
   "cell_type": "code",
   "execution_count": 4,
   "metadata": {},
   "outputs": [
    {
     "data": {
      "text/plain": [
       "True"
      ]
     },
     "execution_count": 4,
     "metadata": {},
     "output_type": "execute_result"
    }
   ],
   "source": [
    "db_name = 'daily_transaction'\n",
    "records = pd.read_excel(record_name, sheetname=db_name, date_parser='txn_date').dropna(how='all')\n",
    "records.empty"
   ]
  },
  {
   "cell_type": "code",
   "execution_count": 8,
   "metadata": {},
   "outputs": [
    {
     "name": "stdout",
     "output_type": "stream",
     "text": [
      "2017-10-02 22:11:13,370 INFO sqlalchemy.engine.base.Engine BEGIN (implicit)\n",
      "2017-10-02 22:11:13.370 sqlalchemy.engine.base.Engine INFO: BEGIN (implicit)\n",
      "2017-10-02 22:11:13,375 INFO sqlalchemy.engine.base.Engine DELETE FROM investment_transfer WHERE investment_transfer.txn_date >= %(txn_date_1)s\n",
      "2017-10-02 22:11:13.375 sqlalchemy.engine.base.Engine INFO: DELETE FROM investment_transfer WHERE investment_transfer.txn_date >= %(txn_date_1)s\n",
      "2017-10-02 22:11:13,377 INFO sqlalchemy.engine.base.Engine {'txn_date_1': datetime.date(2017, 10, 1)}\n",
      "2017-10-02 22:11:13.377 sqlalchemy.engine.base.Engine INFO: {'txn_date_1': datetime.date(2017, 10, 1)}\n",
      "2017-10-02 22:11:13,385 INFO sqlalchemy.engine.base.Engine COMMIT\n",
      "2017-10-02 22:11:13.385 sqlalchemy.engine.base.Engine INFO: COMMIT\n"
     ]
    }
   ],
   "source": [
    "model = InvestmentTransfer\n",
    "session.query(model).filter(\n",
    "    model.txn_date >= datetime.date.today().replace(day=1)).delete()\n",
    "session.bulk_insert_mappings(model, records.to_dict('record'))\n",
    "session.commit()"
   ]
  },
  {
   "cell_type": "code",
   "execution_count": 9,
   "metadata": {},
   "outputs": [
    {
     "name": "stdout",
     "output_type": "stream",
     "text": [
      "2017-10-02 22:11:15,238 INFO sqlalchemy.engine.base.Engine select relname from pg_class c join pg_namespace n on n.oid=c.relnamespace where pg_catalog.pg_table_is_visible(c.oid) and relname=%(name)s\n",
      "2017-10-02 22:11:15.238 sqlalchemy.engine.base.Engine INFO: select relname from pg_class c join pg_namespace n on n.oid=c.relnamespace where pg_catalog.pg_table_is_visible(c.oid) and relname=%(name)s\n",
      "2017-10-02 22:11:15,241 INFO sqlalchemy.engine.base.Engine {'name': 'SELECT investment_transfer.id, investment_transfer.txn_date, investment_transfer.bank_acct, investment_transfer.inv_acct, investment_transfer.amount, ... (25 characters truncated) ... ency, investment_transfer.description, investment_transfer.last_update \\nFROM investment_transfer \\nWHERE investment_transfer.txn_date >= :txn_date_1'}\n",
      "2017-10-02 22:11:15.241 sqlalchemy.engine.base.Engine INFO: {'name': 'SELECT investment_transfer.id, investment_transfer.txn_date, investment_transfer.bank_acct, investment_transfer.inv_acct, investment_transfer.amount, ... (25 characters truncated) ... ency, investment_transfer.description, investment_transfer.last_update \\nFROM investment_transfer \\nWHERE investment_transfer.txn_date >= :txn_date_1'}\n",
      "2017-10-02 22:11:15,249 INFO sqlalchemy.engine.base.Engine SELECT investment_transfer.id, investment_transfer.txn_date, investment_transfer.bank_acct, investment_transfer.inv_acct, investment_transfer.amount, investment_transfer.currency, investment_transfer.description, investment_transfer.last_update \n",
      "FROM investment_transfer \n",
      "WHERE investment_transfer.txn_date >= %(txn_date_1)s\n",
      "2017-10-02 22:11:15.249 sqlalchemy.engine.base.Engine INFO: SELECT investment_transfer.id, investment_transfer.txn_date, investment_transfer.bank_acct, investment_transfer.inv_acct, investment_transfer.amount, investment_transfer.currency, investment_transfer.description, investment_transfer.last_update \n",
      "FROM investment_transfer \n",
      "WHERE investment_transfer.txn_date >= %(txn_date_1)s\n",
      "2017-10-02 22:11:15,253 INFO sqlalchemy.engine.base.Engine {'txn_date_1': datetime.date(2017, 10, 1)}\n",
      "2017-10-02 22:11:15.253 sqlalchemy.engine.base.Engine INFO: {'txn_date_1': datetime.date(2017, 10, 1)}\n"
     ]
    },
    {
     "data": {
      "text/html": [
       "<div>\n",
       "<style>\n",
       "    .dataframe thead tr:only-child th {\n",
       "        text-align: right;\n",
       "    }\n",
       "\n",
       "    .dataframe thead th {\n",
       "        text-align: left;\n",
       "    }\n",
       "\n",
       "    .dataframe tbody tr th {\n",
       "        vertical-align: top;\n",
       "    }\n",
       "</style>\n",
       "<table border=\"1\" class=\"dataframe\">\n",
       "  <thead>\n",
       "    <tr style=\"text-align: right;\">\n",
       "      <th></th>\n",
       "      <th>id</th>\n",
       "      <th>txn_date</th>\n",
       "      <th>bank_acct</th>\n",
       "      <th>inv_acct</th>\n",
       "      <th>amount</th>\n",
       "      <th>currency</th>\n",
       "      <th>description</th>\n",
       "      <th>last_update</th>\n",
       "    </tr>\n",
       "  </thead>\n",
       "  <tbody>\n",
       "  </tbody>\n",
       "</table>\n",
       "</div>"
      ],
      "text/plain": [
       "Empty DataFrame\n",
       "Columns: [id, txn_date, bank_acct, inv_acct, amount, currency, description, last_update]\n",
       "Index: []"
      ]
     },
     "execution_count": 9,
     "metadata": {},
     "output_type": "execute_result"
    }
   ],
   "source": [
    "query = session.query(model).filter(model.txn_date >= datetime.date.today().replace(day=1))\n",
    "pd.read_sql(query.statement, query.session.bind)"
   ]
  },
  {
   "cell_type": "code",
   "execution_count": 6,
   "metadata": {},
   "outputs": [
    {
     "data": {
      "text/html": [
       "<div>\n",
       "<style>\n",
       "    .dataframe thead tr:only-child th {\n",
       "        text-align: right;\n",
       "    }\n",
       "\n",
       "    .dataframe thead th {\n",
       "        text-align: left;\n",
       "    }\n",
       "\n",
       "    .dataframe tbody tr th {\n",
       "        vertical-align: top;\n",
       "    }\n",
       "</style>\n",
       "<table border=\"1\" class=\"dataframe\">\n",
       "  <thead>\n",
       "    <tr style=\"text-align: right;\">\n",
       "      <th></th>\n",
       "      <th>account</th>\n",
       "      <th>balance</th>\n",
       "      <th>observation_date</th>\n",
       "    </tr>\n",
       "  </thead>\n",
       "  <tbody>\n",
       "    <tr>\n",
       "      <th>0</th>\n",
       "      <td>Cash</td>\n",
       "      <td>27.00</td>\n",
       "      <td>2017-09-23</td>\n",
       "    </tr>\n",
       "    <tr>\n",
       "      <th>1</th>\n",
       "      <td>Citi_Checking</td>\n",
       "      <td>9480.26</td>\n",
       "      <td>2017-09-23</td>\n",
       "    </tr>\n",
       "    <tr>\n",
       "      <th>2</th>\n",
       "      <td>Citi_Credit</td>\n",
       "      <td>0.00</td>\n",
       "      <td>2017-09-23</td>\n",
       "    </tr>\n",
       "    <tr>\n",
       "      <th>3</th>\n",
       "      <td>Citi_Saving</td>\n",
       "      <td>5000.47</td>\n",
       "      <td>2017-09-23</td>\n",
       "    </tr>\n",
       "    <tr>\n",
       "      <th>4</th>\n",
       "      <td>Discover</td>\n",
       "      <td>-162.14</td>\n",
       "      <td>2017-09-23</td>\n",
       "    </tr>\n",
       "    <tr>\n",
       "      <th>5</th>\n",
       "      <td>Venmo</td>\n",
       "      <td>301.10</td>\n",
       "      <td>2017-09-23</td>\n",
       "    </tr>\n",
       "  </tbody>\n",
       "</table>\n",
       "</div>"
      ],
      "text/plain": [
       "         account  balance observation_date\n",
       "0           Cash    27.00       2017-09-23\n",
       "1  Citi_Checking  9480.26       2017-09-23\n",
       "2    Citi_Credit     0.00       2017-09-23\n",
       "3    Citi_Saving  5000.47       2017-09-23\n",
       "4       Discover  -162.14       2017-09-23\n",
       "5          Venmo   301.10       2017-09-23"
      ]
     },
     "execution_count": 6,
     "metadata": {},
     "output_type": "execute_result"
    }
   ],
   "source": [
    "balance_new"
   ]
  }
 ],
 "metadata": {
  "kernelspec": {
   "display_name": "Python 3",
   "language": "python",
   "name": "python3"
  },
  "language_info": {
   "codemirror_mode": {
    "name": "ipython",
    "version": 3
   },
   "file_extension": ".py",
   "mimetype": "text/x-python",
   "name": "python",
   "nbconvert_exporter": "python",
   "pygments_lexer": "ipython3",
   "version": "3.6.2"
  }
 },
 "nbformat": 4,
 "nbformat_minor": 2
}
